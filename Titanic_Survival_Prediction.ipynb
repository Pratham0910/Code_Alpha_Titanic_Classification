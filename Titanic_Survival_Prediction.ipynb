{
  "nbformat": 4,
  "nbformat_minor": 0,
  "metadata": {
    "colab": {
      "provenance": []
    },
    "kernelspec": {
      "name": "python3",
      "display_name": "Python 3"
    },
    "language_info": {
      "name": "python"
    }
  },
  "cells": [
    {
      "cell_type": "code",
      "execution_count": 228,
      "metadata": {
        "id": "lK_gI6i-zhAt"
      },
      "outputs": [],
      "source": [
        "import pandas as pd\n",
        "import sklearn\n",
        "from sklearn.model_selection import train_test_split"
      ]
    },
    {
      "cell_type": "code",
      "source": [
        "url = 'https://raw.githubusercontent.com/datasciencedojo/datasets/master/titanic.csv'\n",
        "dataset = pd.DataFrame()\n",
        "dataset = pd.read_csv(url)"
      ],
      "metadata": {
        "id": "R88MGotf0ClU"
      },
      "execution_count": 229,
      "outputs": []
    },
    {
      "cell_type": "code",
      "source": [
        "# Data Cleaning\n",
        "dataset.drop(['Name', 'Ticket', 'Cabin'], axis = 1, inplace = True)\n",
        "dataset.isnull().sum()\n",
        "\n",
        "dataset[\"Age\"].fillna(dataset[\"Age\"].mean(), inplace=True)\n",
        "dataset[\"Embarked\"].fillna(dataset[\"Embarked\"].fillna(method ='pad'), inplace=True)"
      ],
      "metadata": {
        "id": "HHGrrYmcghn3"
      },
      "execution_count": 230,
      "outputs": []
    },
    {
      "cell_type": "code",
      "source": [
        "# Data Analysis\n",
        "nMales = len(dataset[dataset[\"Sex\"] == 'male'])\n",
        "print(\"\\nNo. of males in Titanic: \", nMales)\n",
        "\n",
        "nFemales = len(dataset[dataset[\"Sex\"] == 'female'])\n",
        "print(\"\\nNo. of females in Titanic: \", nFemales)\n",
        "\n",
        "alive = len(dataset[dataset[\"Survived\"] == 1])\n",
        "dead = len(dataset[dataset[\"Survived\"] == 0])\n",
        "print(\"\\nNo. of people alive: \", alive)\n",
        "print(\"\\nNo. of people dead: \", dead)"
      ],
      "metadata": {
        "colab": {
          "base_uri": "https://localhost:8080/"
        },
        "id": "k4oy9d9zM8hA",
        "outputId": "919e98d8-9b3b-4d9e-94c5-48cc26ab3f03"
      },
      "execution_count": 231,
      "outputs": [
        {
          "output_type": "stream",
          "name": "stdout",
          "text": [
            "\n",
            "No. of males in Titanic:  577\n",
            "\n",
            "No. of females in Titanic:  314\n",
            "\n",
            "No. of people alive:  342\n",
            "\n",
            "No. of people dead:  549\n"
          ]
        }
      ]
    },
    {
      "cell_type": "code",
      "source": [
        "# Gender-wise survival probabilites\n",
        "surv = dataset.groupby(\"Sex\")[\"Survived\"].sum()\n",
        "print(\"\\nNo. of males and females survived: \", surv, sep='\\n')\n",
        "print(\"\\nProbabilities of survival for both genders:\")\n",
        "print(\"Male: \", (surv['male']/alive))\n",
        "print(\"Female: \", (surv['female']/alive))"
      ],
      "metadata": {
        "colab": {
          "base_uri": "https://localhost:8080/"
        },
        "id": "8BcPB8nnR9cm",
        "outputId": "909f69a0-d173-4381-ff04-5b376f13c272"
      },
      "execution_count": 232,
      "outputs": [
        {
          "output_type": "stream",
          "name": "stdout",
          "text": [
            "\n",
            "No. of males and females survived: \n",
            "Sex\n",
            "female    233\n",
            "male      109\n",
            "Name: Survived, dtype: int64\n",
            "\n",
            "Probabilities of survival for both genders:\n",
            "Male:  0.31871345029239767\n",
            "Female:  0.6812865497076024\n"
          ]
        }
      ]
    },
    {
      "cell_type": "code",
      "source": [
        "# Passenger Class-wise survival probabilities\n",
        "classes = dataset.groupby(\"Pclass\")[\"Survived\"].sum()\n",
        "print(\"Probabilities of aliveness according to different Passenger Classes:\")\n",
        "c1 = classes[1]/alive\n",
        "c2 = classes[2]/alive\n",
        "c3 = classes[3]/alive\n",
        "print(\"Class 1: \", c1, \"\\nClass 2: \", c2, \"\\nClass 3: \", c3)"
      ],
      "metadata": {
        "colab": {
          "base_uri": "https://localhost:8080/"
        },
        "id": "xXR8iDKJPuwo",
        "outputId": "3c9ae4e3-59a4-4e27-b386-1c400444ebb6"
      },
      "execution_count": 233,
      "outputs": [
        {
          "output_type": "stream",
          "name": "stdout",
          "text": [
            "Probabilities of aliveness according to different Passenger Classes:\n",
            "Class 1:  0.39766081871345027 \n",
            "Class 2:  0.2543859649122807 \n",
            "Class 3:  0.347953216374269\n"
          ]
        }
      ]
    },
    {
      "cell_type": "code",
      "source": [
        "# Survival probabilities based on no. of siblings and spouse\n",
        "nSibsp = dataset.groupby(\"SibSp\")[\"Survived\"].sum().sort_values( ascending=False)\n",
        "print(\"Survival probabilities based on no. of siblins and spouse: \")\n",
        "print(\"\\nWith 0 Siblings and spouse: \", nSibsp[0]/alive)\n",
        "print(\"\\nWith 1 Siblings and spouse: \", nSibsp[1]/alive)\n",
        "print(\"\\nWith 2 Siblings and spouse: \", nSibsp[2]/alive)\n",
        "print(\"\\nWith 3 Siblings and spouse: \", nSibsp[3]/alive)\n",
        "print(\"\\nWith 4 Siblings and spouse: \", nSibsp[4]/alive)\n",
        "print(\"\\nWith more than 4 Siblings and spouse: \", nSibsp[5]/alive)"
      ],
      "metadata": {
        "colab": {
          "base_uri": "https://localhost:8080/"
        },
        "id": "k1vCO7RDTcz4",
        "outputId": "e1f05641-2011-4234-9ed2-79c0628db964"
      },
      "execution_count": 236,
      "outputs": [
        {
          "output_type": "stream",
          "name": "stdout",
          "text": [
            "Survival probabilities based on no. of siblins and spouse: \n",
            "\n",
            "With 0 Siblings and spouse:  0.6140350877192983\n",
            "\n",
            "With 1 Siblings and spouse:  0.32748538011695905\n",
            "\n",
            "With 2 Siblings and spouse:  0.038011695906432746\n",
            "\n",
            "With 3 Siblings and spouse:  0.011695906432748537\n",
            "\n",
            "With 4 Siblings and spouse:  0.008771929824561403\n",
            "\n",
            "With more than 4 Siblings and spouse:  0.0\n"
          ]
        }
      ]
    },
    {
      "cell_type": "code",
      "source": [
        "# Survival probabilities based on embarking port\n",
        "embPort = dataset.groupby(\"Embarked\")[\"Survived\"].sum()\n",
        "print(\"Survival rate based on embarking port:\")\n",
        "print(\"\\nSouthampton: \", embPort['S']/alive)\n",
        "print(\"\\nCherbourg: \", embPort['C']/alive)\n",
        "print(\"\\nQueenstown: \", embPort['Q']/alive)"
      ],
      "metadata": {
        "colab": {
          "base_uri": "https://localhost:8080/"
        },
        "id": "Jk3Ked_6VCR2",
        "outputId": "14e676c1-5f83-479e-d339-f97afdc6f087"
      },
      "execution_count": 238,
      "outputs": [
        {
          "output_type": "stream",
          "name": "stdout",
          "text": [
            "Survival rate based on embarking port:\n",
            "\n",
            "Southampton:  0.6345029239766082\n",
            "\n",
            "Cherbourg:  0.27485380116959063\n",
            "\n",
            "Queenstown:  0.09064327485380116\n"
          ]
        }
      ]
    },
    {
      "cell_type": "code",
      "source": [
        "# Data Preperation\n",
        "sex = {'male':1, 'female': 0}\n",
        "dataset[\"Sex\"] = dataset[\"Sex\"].apply(lambda x:sex[x])\n",
        "\n",
        "e = {'C':0, 'Q':1 ,'S':2}\n",
        "dataset[\"Embarked\"] = dataset[\"Embarked\"].apply(lambda x:e[x])\n",
        "dataset.head()"
      ],
      "metadata": {
        "colab": {
          "base_uri": "https://localhost:8080/",
          "height": 206
        },
        "id": "3Lz1-eA3M7Dm",
        "outputId": "06ac8f92-47a5-416b-ad0a-ca22f37e6a0b"
      },
      "execution_count": 239,
      "outputs": [
        {
          "output_type": "execute_result",
          "data": {
            "text/plain": [
              "   PassengerId  Survived  Pclass  Sex   Age  SibSp  Parch     Fare  Embarked\n",
              "0            1         0       3    1  22.0      1      0   7.2500         2\n",
              "1            2         1       1    0  38.0      1      0  71.2833         0\n",
              "2            3         1       3    0  26.0      0      0   7.9250         2\n",
              "3            4         1       1    0  35.0      1      0  53.1000         2\n",
              "4            5         0       3    1  35.0      0      0   8.0500         2"
            ],
            "text/html": [
              "\n",
              "  <div id=\"df-adfc4709-1c4e-4ac4-a79e-254f23ff67b7\" class=\"colab-df-container\">\n",
              "    <div>\n",
              "<style scoped>\n",
              "    .dataframe tbody tr th:only-of-type {\n",
              "        vertical-align: middle;\n",
              "    }\n",
              "\n",
              "    .dataframe tbody tr th {\n",
              "        vertical-align: top;\n",
              "    }\n",
              "\n",
              "    .dataframe thead th {\n",
              "        text-align: right;\n",
              "    }\n",
              "</style>\n",
              "<table border=\"1\" class=\"dataframe\">\n",
              "  <thead>\n",
              "    <tr style=\"text-align: right;\">\n",
              "      <th></th>\n",
              "      <th>PassengerId</th>\n",
              "      <th>Survived</th>\n",
              "      <th>Pclass</th>\n",
              "      <th>Sex</th>\n",
              "      <th>Age</th>\n",
              "      <th>SibSp</th>\n",
              "      <th>Parch</th>\n",
              "      <th>Fare</th>\n",
              "      <th>Embarked</th>\n",
              "    </tr>\n",
              "  </thead>\n",
              "  <tbody>\n",
              "    <tr>\n",
              "      <th>0</th>\n",
              "      <td>1</td>\n",
              "      <td>0</td>\n",
              "      <td>3</td>\n",
              "      <td>1</td>\n",
              "      <td>22.0</td>\n",
              "      <td>1</td>\n",
              "      <td>0</td>\n",
              "      <td>7.2500</td>\n",
              "      <td>2</td>\n",
              "    </tr>\n",
              "    <tr>\n",
              "      <th>1</th>\n",
              "      <td>2</td>\n",
              "      <td>1</td>\n",
              "      <td>1</td>\n",
              "      <td>0</td>\n",
              "      <td>38.0</td>\n",
              "      <td>1</td>\n",
              "      <td>0</td>\n",
              "      <td>71.2833</td>\n",
              "      <td>0</td>\n",
              "    </tr>\n",
              "    <tr>\n",
              "      <th>2</th>\n",
              "      <td>3</td>\n",
              "      <td>1</td>\n",
              "      <td>3</td>\n",
              "      <td>0</td>\n",
              "      <td>26.0</td>\n",
              "      <td>0</td>\n",
              "      <td>0</td>\n",
              "      <td>7.9250</td>\n",
              "      <td>2</td>\n",
              "    </tr>\n",
              "    <tr>\n",
              "      <th>3</th>\n",
              "      <td>4</td>\n",
              "      <td>1</td>\n",
              "      <td>1</td>\n",
              "      <td>0</td>\n",
              "      <td>35.0</td>\n",
              "      <td>1</td>\n",
              "      <td>0</td>\n",
              "      <td>53.1000</td>\n",
              "      <td>2</td>\n",
              "    </tr>\n",
              "    <tr>\n",
              "      <th>4</th>\n",
              "      <td>5</td>\n",
              "      <td>0</td>\n",
              "      <td>3</td>\n",
              "      <td>1</td>\n",
              "      <td>35.0</td>\n",
              "      <td>0</td>\n",
              "      <td>0</td>\n",
              "      <td>8.0500</td>\n",
              "      <td>2</td>\n",
              "    </tr>\n",
              "  </tbody>\n",
              "</table>\n",
              "</div>\n",
              "    <div class=\"colab-df-buttons\">\n",
              "\n",
              "  <div class=\"colab-df-container\">\n",
              "    <button class=\"colab-df-convert\" onclick=\"convertToInteractive('df-adfc4709-1c4e-4ac4-a79e-254f23ff67b7')\"\n",
              "            title=\"Convert this dataframe to an interactive table.\"\n",
              "            style=\"display:none;\">\n",
              "\n",
              "  <svg xmlns=\"http://www.w3.org/2000/svg\" height=\"24px\" viewBox=\"0 -960 960 960\">\n",
              "    <path d=\"M120-120v-720h720v720H120Zm60-500h600v-160H180v160Zm220 220h160v-160H400v160Zm0 220h160v-160H400v160ZM180-400h160v-160H180v160Zm440 0h160v-160H620v160ZM180-180h160v-160H180v160Zm440 0h160v-160H620v160Z\"/>\n",
              "  </svg>\n",
              "    </button>\n",
              "\n",
              "  <style>\n",
              "    .colab-df-container {\n",
              "      display:flex;\n",
              "      gap: 12px;\n",
              "    }\n",
              "\n",
              "    .colab-df-convert {\n",
              "      background-color: #E8F0FE;\n",
              "      border: none;\n",
              "      border-radius: 50%;\n",
              "      cursor: pointer;\n",
              "      display: none;\n",
              "      fill: #1967D2;\n",
              "      height: 32px;\n",
              "      padding: 0 0 0 0;\n",
              "      width: 32px;\n",
              "    }\n",
              "\n",
              "    .colab-df-convert:hover {\n",
              "      background-color: #E2EBFA;\n",
              "      box-shadow: 0px 1px 2px rgba(60, 64, 67, 0.3), 0px 1px 3px 1px rgba(60, 64, 67, 0.15);\n",
              "      fill: #174EA6;\n",
              "    }\n",
              "\n",
              "    .colab-df-buttons div {\n",
              "      margin-bottom: 4px;\n",
              "    }\n",
              "\n",
              "    [theme=dark] .colab-df-convert {\n",
              "      background-color: #3B4455;\n",
              "      fill: #D2E3FC;\n",
              "    }\n",
              "\n",
              "    [theme=dark] .colab-df-convert:hover {\n",
              "      background-color: #434B5C;\n",
              "      box-shadow: 0px 1px 3px 1px rgba(0, 0, 0, 0.15);\n",
              "      filter: drop-shadow(0px 1px 2px rgba(0, 0, 0, 0.3));\n",
              "      fill: #FFFFFF;\n",
              "    }\n",
              "  </style>\n",
              "\n",
              "    <script>\n",
              "      const buttonEl =\n",
              "        document.querySelector('#df-adfc4709-1c4e-4ac4-a79e-254f23ff67b7 button.colab-df-convert');\n",
              "      buttonEl.style.display =\n",
              "        google.colab.kernel.accessAllowed ? 'block' : 'none';\n",
              "\n",
              "      async function convertToInteractive(key) {\n",
              "        const element = document.querySelector('#df-adfc4709-1c4e-4ac4-a79e-254f23ff67b7');\n",
              "        const dataTable =\n",
              "          await google.colab.kernel.invokeFunction('convertToInteractive',\n",
              "                                                    [key], {});\n",
              "        if (!dataTable) return;\n",
              "\n",
              "        const docLinkHtml = 'Like what you see? Visit the ' +\n",
              "          '<a target=\"_blank\" href=https://colab.research.google.com/notebooks/data_table.ipynb>data table notebook</a>'\n",
              "          + ' to learn more about interactive tables.';\n",
              "        element.innerHTML = '';\n",
              "        dataTable['output_type'] = 'display_data';\n",
              "        await google.colab.output.renderOutput(dataTable, element);\n",
              "        const docLink = document.createElement('div');\n",
              "        docLink.innerHTML = docLinkHtml;\n",
              "        element.appendChild(docLink);\n",
              "      }\n",
              "    </script>\n",
              "  </div>\n",
              "\n",
              "\n",
              "<div id=\"df-6cb22121-7eeb-4e88-b550-89a3d3c50e9f\">\n",
              "  <button class=\"colab-df-quickchart\" onclick=\"quickchart('df-6cb22121-7eeb-4e88-b550-89a3d3c50e9f')\"\n",
              "            title=\"Suggest charts\"\n",
              "            style=\"display:none;\">\n",
              "\n",
              "<svg xmlns=\"http://www.w3.org/2000/svg\" height=\"24px\"viewBox=\"0 0 24 24\"\n",
              "     width=\"24px\">\n",
              "    <g>\n",
              "        <path d=\"M19 3H5c-1.1 0-2 .9-2 2v14c0 1.1.9 2 2 2h14c1.1 0 2-.9 2-2V5c0-1.1-.9-2-2-2zM9 17H7v-7h2v7zm4 0h-2V7h2v10zm4 0h-2v-4h2v4z\"/>\n",
              "    </g>\n",
              "</svg>\n",
              "  </button>\n",
              "\n",
              "<style>\n",
              "  .colab-df-quickchart {\n",
              "      --bg-color: #E8F0FE;\n",
              "      --fill-color: #1967D2;\n",
              "      --hover-bg-color: #E2EBFA;\n",
              "      --hover-fill-color: #174EA6;\n",
              "      --disabled-fill-color: #AAA;\n",
              "      --disabled-bg-color: #DDD;\n",
              "  }\n",
              "\n",
              "  [theme=dark] .colab-df-quickchart {\n",
              "      --bg-color: #3B4455;\n",
              "      --fill-color: #D2E3FC;\n",
              "      --hover-bg-color: #434B5C;\n",
              "      --hover-fill-color: #FFFFFF;\n",
              "      --disabled-bg-color: #3B4455;\n",
              "      --disabled-fill-color: #666;\n",
              "  }\n",
              "\n",
              "  .colab-df-quickchart {\n",
              "    background-color: var(--bg-color);\n",
              "    border: none;\n",
              "    border-radius: 50%;\n",
              "    cursor: pointer;\n",
              "    display: none;\n",
              "    fill: var(--fill-color);\n",
              "    height: 32px;\n",
              "    padding: 0;\n",
              "    width: 32px;\n",
              "  }\n",
              "\n",
              "  .colab-df-quickchart:hover {\n",
              "    background-color: var(--hover-bg-color);\n",
              "    box-shadow: 0 1px 2px rgba(60, 64, 67, 0.3), 0 1px 3px 1px rgba(60, 64, 67, 0.15);\n",
              "    fill: var(--button-hover-fill-color);\n",
              "  }\n",
              "\n",
              "  .colab-df-quickchart-complete:disabled,\n",
              "  .colab-df-quickchart-complete:disabled:hover {\n",
              "    background-color: var(--disabled-bg-color);\n",
              "    fill: var(--disabled-fill-color);\n",
              "    box-shadow: none;\n",
              "  }\n",
              "\n",
              "  .colab-df-spinner {\n",
              "    border: 2px solid var(--fill-color);\n",
              "    border-color: transparent;\n",
              "    border-bottom-color: var(--fill-color);\n",
              "    animation:\n",
              "      spin 1s steps(1) infinite;\n",
              "  }\n",
              "\n",
              "  @keyframes spin {\n",
              "    0% {\n",
              "      border-color: transparent;\n",
              "      border-bottom-color: var(--fill-color);\n",
              "      border-left-color: var(--fill-color);\n",
              "    }\n",
              "    20% {\n",
              "      border-color: transparent;\n",
              "      border-left-color: var(--fill-color);\n",
              "      border-top-color: var(--fill-color);\n",
              "    }\n",
              "    30% {\n",
              "      border-color: transparent;\n",
              "      border-left-color: var(--fill-color);\n",
              "      border-top-color: var(--fill-color);\n",
              "      border-right-color: var(--fill-color);\n",
              "    }\n",
              "    40% {\n",
              "      border-color: transparent;\n",
              "      border-right-color: var(--fill-color);\n",
              "      border-top-color: var(--fill-color);\n",
              "    }\n",
              "    60% {\n",
              "      border-color: transparent;\n",
              "      border-right-color: var(--fill-color);\n",
              "    }\n",
              "    80% {\n",
              "      border-color: transparent;\n",
              "      border-right-color: var(--fill-color);\n",
              "      border-bottom-color: var(--fill-color);\n",
              "    }\n",
              "    90% {\n",
              "      border-color: transparent;\n",
              "      border-bottom-color: var(--fill-color);\n",
              "    }\n",
              "  }\n",
              "</style>\n",
              "\n",
              "  <script>\n",
              "    async function quickchart(key) {\n",
              "      const quickchartButtonEl =\n",
              "        document.querySelector('#' + key + ' button');\n",
              "      quickchartButtonEl.disabled = true;  // To prevent multiple clicks.\n",
              "      quickchartButtonEl.classList.add('colab-df-spinner');\n",
              "      try {\n",
              "        const charts = await google.colab.kernel.invokeFunction(\n",
              "            'suggestCharts', [key], {});\n",
              "      } catch (error) {\n",
              "        console.error('Error during call to suggestCharts:', error);\n",
              "      }\n",
              "      quickchartButtonEl.classList.remove('colab-df-spinner');\n",
              "      quickchartButtonEl.classList.add('colab-df-quickchart-complete');\n",
              "    }\n",
              "    (() => {\n",
              "      let quickchartButtonEl =\n",
              "        document.querySelector('#df-6cb22121-7eeb-4e88-b550-89a3d3c50e9f button');\n",
              "      quickchartButtonEl.style.display =\n",
              "        google.colab.kernel.accessAllowed ? 'block' : 'none';\n",
              "    })();\n",
              "  </script>\n",
              "</div>\n",
              "    </div>\n",
              "  </div>\n"
            ]
          },
          "metadata": {},
          "execution_count": 239
        }
      ]
    },
    {
      "cell_type": "code",
      "source": [
        "# Features Selection\n",
        "features = ['Age','Pclass','SibSp','Parch','Fare','Sex','Embarked']"
      ],
      "metadata": {
        "id": "JtFx3fSWFAPk"
      },
      "execution_count": 240,
      "outputs": []
    },
    {
      "cell_type": "code",
      "source": [
        "# Scaling the data\n",
        "from sklearn.preprocessing import MinMaxScaler\n",
        "X = dataset[features]\n",
        "scaler = MinMaxScaler()\n",
        "X = scaler.fit_transform(X)\n",
        "y = dataset['Survived']\n",
        "xTrain, xTest, yTrain, yTest = train_test_split(X, y, test_size = 0.3)"
      ],
      "metadata": {
        "id": "YmL4Kv55Ek0j"
      },
      "execution_count": 241,
      "outputs": []
    },
    {
      "cell_type": "code",
      "source": [
        "# Model Selection\n",
        "from sklearn.naive_bayes import GaussianNB\n",
        "model = GaussianNB()\n",
        "model.fit(xTrain, yTrain)\n",
        "prediction = model.predict(xTest)\n",
        "\n",
        "# Accuracy Calculation\n",
        "from sklearn.metrics import accuracy_score\n",
        "accuracy = accuracy_score(prediction, yTest)\n",
        "print(\"Accuracy for Gaussian Naive Bayes model: \", accuracy)\n",
        "\n",
        "print(\"\\nWith the given dataset and the analysis which I have done, one can say that survival rates are max for a person with following:\")\n",
        "print(\"Age-Group: 20 - 30\")\n",
        "print(\"Sex: Female\")\n",
        "print(\"Passenger Class: 1\")\n",
        "print(\"No. of siblings and spouses: 0\")\n",
        "print(\"Embarking Port: Southampton\")"
      ],
      "metadata": {
        "colab": {
          "base_uri": "https://localhost:8080/"
        },
        "id": "JIZVGD2oGptR",
        "outputId": "bba589e0-a769-4f82-ce68-adb17ffd9537"
      },
      "execution_count": 244,
      "outputs": [
        {
          "output_type": "stream",
          "name": "stdout",
          "text": [
            "Accuracy for Gaussian Naive Bayes model:  0.8208955223880597\n",
            "\n",
            "With the given dataset and the analysis which I have done, one can say that survival rates are max for a person with following:\n",
            "Age-Group: 20 - 30\n",
            "Sex: Female\n",
            "Passenger Class: 1\n",
            "No. of siblings and spouses: 0\n",
            "Embarking Port: Southampton\n"
          ]
        }
      ]
    }
  ]
}